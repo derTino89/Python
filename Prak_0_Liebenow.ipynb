{
 "cells": [
  {
   "cell_type": "code",
   "execution_count": 1,
   "metadata": {},
   "outputs": [],
   "source": [
    "import numpy as np\n",
    "import matplotlib.pyplot as plt"
   ]
  },
  {
   "cell_type": "code",
   "execution_count": 2,
   "metadata": {},
   "outputs": [
    {
     "name": "stdout",
     "output_type": "stream",
     "text": [
      "15\n",
      "15\n",
      "8\n"
     ]
    }
   ],
   "source": [
    "a = 2*2**3-1\n",
    "b = (2*2**3)-1\n",
    "c = 2*2**(3-1)\n",
    "print (a)\n",
    "print (b)\n",
    "print (c)"
   ]
  },
  {
   "cell_type": "code",
   "execution_count": 3,
   "metadata": {},
   "outputs": [
    {
     "name": "stdout",
     "output_type": "stream",
     "text": [
      "(-1+1.2246467991473532e-16j)\n"
     ]
    }
   ],
   "source": [
    "d = np.exp(1j*np.pi) #muss -1 sein \n",
    "print (d)"
   ]
  },
  {
   "cell_type": "code",
   "execution_count": 4,
   "metadata": {},
   "outputs": [],
   "source": [
    "# also grob -1, Abweichung durch Rechnung mit Fließkommazahlen"
   ]
  },
  {
   "cell_type": "code",
   "execution_count": 5,
   "metadata": {},
   "outputs": [],
   "source": [
    "z = 3+4j"
   ]
  },
  {
   "cell_type": "code",
   "execution_count": 6,
   "metadata": {},
   "outputs": [
    {
     "name": "stdout",
     "output_type": "stream",
     "text": [
      "(3+4j)\n"
     ]
    }
   ],
   "source": [
    "print (z)"
   ]
  },
  {
   "cell_type": "code",
   "execution_count": 7,
   "metadata": {},
   "outputs": [],
   "source": [
    "n = 13 # Anzahl der Zeilen / Spalten so wie Maximalwert der untersten Zeile"
   ]
  },
  {
   "cell_type": "code",
   "execution_count": 8,
   "metadata": {},
   "outputs": [
    {
     "name": "stdout",
     "output_type": "stream",
     "text": [
      "[[ 1.  1.  1.  1.  1.  1.  1.  1.  1.  1.  1.  1.  1.]\n",
      " [ 2.  2.  2.  2.  2.  2.  2.  2.  2.  2.  2.  2.  2.]\n",
      " [ 3.  3.  3.  3.  3.  3.  3.  3.  3.  3.  3.  3.  3.]\n",
      " [ 4.  4.  4.  4.  4.  4.  4.  4.  4.  4.  4.  4.  4.]\n",
      " [ 5.  5.  5.  5.  5.  5.  5.  5.  5.  5.  5.  5.  5.]\n",
      " [ 6.  6.  6.  6.  6.  6.  6.  6.  6.  6.  6.  6.  6.]\n",
      " [ 7.  7.  7.  7.  7.  7.  7.  7.  7.  7.  7.  7.  7.]\n",
      " [ 8.  8.  8.  8.  8.  8.  8.  8.  8.  8.  8.  8.  8.]\n",
      " [ 9.  9.  9.  9.  9.  9.  9.  9.  9.  9.  9.  9.  9.]\n",
      " [10. 10. 10. 10. 10. 10. 10. 10. 10. 10. 10. 10. 10.]\n",
      " [11. 11. 11. 11. 11. 11. 11. 11. 11. 11. 11. 11. 11.]\n",
      " [12. 12. 12. 12. 12. 12. 12. 12. 12. 12. 12. 12. 12.]\n",
      " [13. 13. 13. 13. 13. 13. 13. 13. 13. 13. 13. 13. 13.]]\n"
     ]
    }
   ],
   "source": [
    "MB = np.ones((n,n))\n",
    "N=np.arange(0,n)\n",
    "for i in range(1,n):\n",
    "    MB[np.ix_([i],N)]+=i\n",
    "print(MB)"
   ]
  },
  {
   "cell_type": "code",
   "execution_count": 9,
   "metadata": {},
   "outputs": [
    {
     "data": {
      "text/plain": [
       "<matplotlib.colorbar.Colorbar at 0x1ef60d69908>"
      ]
     },
     "execution_count": 9,
     "metadata": {},
     "output_type": "execute_result"
    },
    {
     "data": {
      "image/png": "[encoded data removed]",
      "text/plain": [
       "<Figure size 432x288 with 2 Axes>"
      ]
     },
     "metadata": {
      "needs_background": "light"
     },
     "output_type": "display_data"
    }
   ],
   "source": [
    "plt.imshow(MB);\n",
    "plt.colorbar()"
   ]
  },
  {
   "cell_type": "code",
   "execution_count": null,
   "metadata": {},
   "outputs": [],
   "source": []
  }
 ],
 "metadata": {
  "kernelspec": {
   "display_name": "Python 3",
   "language": "python",
   "name": "python3"
  },
  "language_info": {
   "codemirror_mode": {
    "name": "ipython",
    "version": 3
   },
   "file_extension": ".py",
   "mimetype": "text/x-python",
   "name": "python",
   "nbconvert_exporter": "python",
   "pygments_lexer": "ipython3",
   "version": "3.7.1"
  }
 },
 "nbformat": 4,
 "nbformat_minor": 2
}
