{
 "cells": [
  {
   "cell_type": "markdown",
   "metadata": {},
   "source": [
    "Abgabe Praktikum 1 - Liebenow -"
   ]
  },
  {
   "cell_type": "markdown",
   "metadata": {},
   "source": [
    "1.) importieren der Bibliotheken und festlegen der Darstellungsform"
   ]
  },
  {
   "cell_type": "code",
   "execution_count": 1,
   "metadata": {},
   "outputs": [],
   "source": [
    "%matplotlib inline\n",
    "import numpy as np\n",
    "import matplotlib.pyplot as plt"
   ]
  },
  {
   "cell_type": "markdown",
   "metadata": {},
   "source": [
    "2.a) Definition der Sprungfunktion mit 3 Parametern:\n",
    "     funktioniert, ist aber nicht gut programmiert, da die ausgegebenen Werte nicht als Zahlenwerte\n",
    "     erkannt werden, sondern als String."
   ]
  },
  {
   "cell_type": "code",
   "execution_count": 2,
   "metadata": {},
   "outputs": [],
   "source": [
    "\n",
    "def sprung(samples,offset,amplitude):\n",
    "    u=[]\n",
    "    for i in samples:\n",
    "        if i>=-offset:\n",
    "            u.append(amplitude)\n",
    "        else:\n",
    "            u.append(0)\n",
    "    return u\n"
   ]
  },
  {
   "cell_type": "markdown",
   "metadata": {},
   "source": [
    "2.b) alternative Definition für ~sprung()~:"
   ]
  },
  {
   "cell_type": "code",
   "execution_count": 3,
   "metadata": {},
   "outputs": [],
   "source": [
    "def sprung(n):\n",
    "    return (n >= 0).astype(int)"
   ]
  },
  {
   "cell_type": "markdown",
   "metadata": {},
   "source": [
    "3.) Festlegen des Bereiches der N-Werte und testen der Funktion mit einem einfachen Aufruf"
   ]
  },
  {
   "cell_type": "code",
   "execution_count": 4,
   "metadata": {},
   "outputs": [
    {
     "name": "stdout",
     "output_type": "stream",
     "text": [
      "Abtastungen: \n",
      "[-10  -9  -8  -7  -6  -5  -4  -3  -2  -1   0   1   2   3   4   5   6   7\n",
      "   8   9  10]\n",
      "u(N) :\n",
      "[0 0 0 0 0 0 0 0 0 0 1 1 1 1 1 1 1 1 1 1 1]\n"
     ]
    },
    {
     "data": {
      "image/png": "[encoded data removed]",
      "text/plain": [
       "<Figure size 432x288 with 1 Axes>"
      ]
     },
     "metadata": {
      "needs_background": "light"
     },
     "output_type": "display_data"
    }
   ],
   "source": [
    "N=np.arange(-10,11)\n",
    "u_N = sprung(N)\n",
    "plt.stem(N,u_N);\n",
    "print(\"Abtastungen: \")\n",
    "print(N)\n",
    "print(\"u(N) :\")\n",
    "print(u_N)"
   ]
  },
  {
   "cell_type": "markdown",
   "metadata": {},
   "source": [
    "4.) gemäß der Aufgabenstellung, die Darstellung der beiden vorgegeben Funktionen:"
   ]
  },
  {
   "cell_type": "code",
   "execution_count": 5,
   "metadata": {},
   "outputs": [
    {
     "data": {
      "text/plain": [
       "<matplotlib.legend.Legend at 0x2efa1784668>"
      ]
     },
     "execution_count": 5,
     "metadata": {},
     "output_type": "execute_result"
    },
    {
     "data": {
      "image/png": "[encoded data removed]",
      "text/plain": [
       "<Figure size 432x288 with 1 Axes>"
      ]
     },
     "metadata": {
      "needs_background": "light"
     },
     "output_type": "display_data"
    }
   ],
   "source": [
    "x1_N = 4*sprung(N-4)\n",
    "x2_N = 1/4*sprung(N+4)\n",
    "plt.stem(N,x1_N,\"y:\",\"yo\",label=\"x1(n)\", basefmt='k2-')\n",
    "plt.stem(N,x2_N,label=\"x2(n)\", basefmt='k2-')\n",
    "plt.xlabel(\"n\",fontsize=\"20\")\n",
    "plt.ylabel(\"u\", fontsize=\"20\")\n",
    "plt.minorticks_on()\n",
    "plt.legend(loc=2)"
   ]
  },
  {
   "cell_type": "code",
   "execution_count": null,
   "metadata": {},
   "outputs": [],
   "source": []
  }
 ],
 "metadata": {
  "kernelspec": {
   "display_name": "Python 3",
   "language": "python",
   "name": "python3"
  },
  "language_info": {
   "codemirror_mode": {
    "name": "ipython",
    "version": 3
   },
   "file_extension": ".py",
   "mimetype": "text/x-python",
   "name": "python",
   "nbconvert_exporter": "python",
   "pygments_lexer": "ipython3",
   "version": "3.7.1"
  }
 },
 "nbformat": 4,
 "nbformat_minor": 2
}
