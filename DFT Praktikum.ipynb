{
 "cells": [
  {
   "cell_type": "markdown",
   "metadata": {},
   "source": [
    "# <u>Vorbereitung:</u>\n",
    "\n",
    "## 2.1 Vektoralgebra:\n",
    "### a)\n",
    "\n",
    "* Inneres Produnkt ist ein Synonym für Skalarprodukt:\n",
    "Verknüpft zwei Vektoren zu einem Skalar (reelle Zahl) und ist die orthogonale Projektion des einen Vektors auf den anderen.\n",
    "     \n",
    "### b) \n",
    "\n",
    "* Äußeres Produkt ist ein Synonym für das Kreuzprodukt:\n",
    "Ergebnisvektor steht senkrecht auf der von den beiden Ausgangsvektoren aufgespannten Ebene.\n",
    "Seine Länge entspricht dem Flächeninhalt des aufgespannten Parallelogramms\n",
    "\n",
    "*****"
   ]
  },
  {
   "cell_type": "markdown",
   "metadata": {},
   "source": [
    "## 2.2: \n",
    "\n",
    "* entfällt\n",
    "\n",
    "## 2.3: \n",
    "\n",
    "* entfällt\n",
    "\n",
    "------"
   ]
  },
  {
   "cell_type": "markdown",
   "metadata": {},
   "source": [
    "## 2.4 Python (Theorie):\n",
    "### a)\n",
    "\n",
    "* shape: Gibt die Größe der Dimensionen einer Matrix (Arrays) aus (also Zeilen/Spalten)\n",
    "\n",
    "* reshape: Befehl zum festlegen der Zeilen und Spaltenanzahl einer Matrix (im Array)\n",
    "\n",
    "* ndim: Gibt die Anzahl der Dimensionen einer Matrix (Array) aus.\n",
    "\n",
    "* size: Gibt die Gesamtanzahl der Elemente im Array aus."
   ]
  },
  {
   "cell_type": "markdown",
   "metadata": {},
   "source": [
    "### b)\n",
    "\n",
    "* a.size ergibt 6, da 3 Zeilen und 2 Spalten 6 \"Zellen\" mit je einer \"1\" befüllt sind.\n",
    "\n",
    "* a.shape ergibt [3,2], da wir 3 Zeilen und 2 Spalten haben\n",
    "\n",
    "* a.ndim ergibt 2, da 2 Dimensionen aufgespannt sind"
   ]
  },
  {
   "cell_type": "markdown",
   "metadata": {},
   "source": [
    "## 2.4 Python (Praxis):\n",
    "### a) Skalar und Kreuzprodukt"
   ]
  },
  {
   "cell_type": "code",
   "execution_count": 1,
   "metadata": {},
   "outputs": [
    {
     "data": {
      "text/plain": [
       "4015903"
      ]
     },
     "execution_count": 1,
     "metadata": {},
     "output_type": "execute_result"
    }
   ],
   "source": [
    "import numpy as np\n",
    "heute=np.array([27,4,2019])\n",
    "geburt=np.array([4,1,1989])\n",
    "\n",
    "def skalar3D(a,b):\n",
    "    return a[0]*b[0]+a[1]*b[1]+a[2]*b[2]\n",
    "skalar3D(heute,geburt)"
   ]
  },
  {
   "cell_type": "code",
   "execution_count": 2,
   "metadata": {},
   "outputs": [
    {
     "data": {
      "text/plain": [
       "array([[  5937],\n",
       "       [-45627],\n",
       "       [    11]])"
      ]
     },
     "execution_count": 2,
     "metadata": {},
     "output_type": "execute_result"
    }
   ],
   "source": [
    "def kreuz3D(a,b):\n",
    "    return np.array([a[1]*b[2]-a[2]*b[1],a[2]*b[0]-a[0]*b[2],a[0]*b[1]-a[1]*b[0]]).reshape(3,1)\n",
    "kreuz3D(heute,geburt)"
   ]
  },
  {
   "cell_type": "markdown",
   "metadata": {},
   "source": [
    "### b) Matrizen"
   ]
  },
  {
   "cell_type": "code",
   "execution_count": 3,
   "metadata": {},
   "outputs": [
    {
     "name": "stdout",
     "output_type": "stream",
     "text": [
      "A:\n",
      "[[1. 1. 1.]\n",
      " [1. 1. 1.]\n",
      " [1. 1. 1.]]\n",
      "b:\n",
      "[[1.]\n",
      " [1.]\n",
      " [1.]]\n",
      "c:\n",
      "[[3.]\n",
      " [3.]\n",
      " [3.]]\n",
      "Dimensionen von c:\n",
      "2\n"
     ]
    }
   ],
   "source": [
    "A=np.ones([3,3])\n",
    "b=np.ones([3,1])\n",
    "c=A@b\n",
    "print(\"A:\")\n",
    "\n",
    "print(A)\n",
    "print(\"b:\")\n",
    "\n",
    "print(b)\n",
    "print(\"c:\")\n",
    "\n",
    "print(c)\n",
    "\n",
    "print('Dimensionen von c:')\n",
    "print(c.ndim)"
   ]
  },
  {
   "cell_type": "markdown",
   "metadata": {},
   "source": [
    "# <u>Durchführung:</u>\n",
    "\n",
    "### 3.1.a) DFT \"Schleife\""
   ]
  },
  {
   "cell_type": "code",
   "execution_count": 4,
   "metadata": {},
   "outputs": [],
   "source": [
    "import matplotlib.pyplot as plt\n"
   ]
  },
  {
   "cell_type": "code",
   "execution_count": 5,
   "metadata": {},
   "outputs": [],
   "source": [
    "def dft_schleife(signal):\n",
    "    N=len(signal)\n",
    "    w=np.exp(-1j*2*np.pi/N)\n",
    "    X=np.zeros(N)\n",
    "    #es zählen alle \"k\" durch, pro \"k\" zählen alle \"n\" durch, multiplizieren sich im Exponenten und summieren\n",
    "    #sich auf das Zwischenergebnis. Die Endsumme ist unser X und wird returnt\n",
    "    for k in range(0,N-1):\n",
    "        wk=w**k\n",
    "        for n in range(0,N-1):\n",
    "            X[k]=X[k]+signal[n]*wk**n\n",
    "    #X=np.array(X[k],dtype=complex)\n",
    "    return X"
   ]
  },
  {
   "cell_type": "markdown",
   "metadata": {},
   "source": [
    "### 3.1.b) DFT \"Vektor\""
   ]
  },
  {
   "cell_type": "code",
   "execution_count": 6,
   "metadata": {},
   "outputs": [],
   "source": [
    "def dft_vektor(signal):  \n",
    "    N=len(signal)\n",
    "    #Aufspannen einer n*k Matrix durch multiplizieren eines Zeilenvektors mit einem Spaltenvektor für n und k\n",
    "    #jedes Element bekommt seine Konstante \"w\" hinzu\n",
    "    #Skalarprodukt dieser Matrix mit den Signalwerten ergibt das gesuchte Array mit \"k\"-Werten ==> return\n",
    "    n=np.arange(0,N).reshape(1,-1)\n",
    "    k=np.arange(0,N).reshape(-1,1)\n",
    "    w=2*np.pi/N\n",
    "    x_nk=np.exp(-1j*w*n*k)   \n",
    "    return x_nk.dot(signal)"
   ]
  },
  {
   "cell_type": "markdown",
   "metadata": {},
   "source": [
    "### 3.2) Cosinus-Folge"
   ]
  },
  {
   "cell_type": "code",
   "execution_count": 17,
   "metadata": {},
   "outputs": [
    {
     "data": {
      "image/png": "[encoded data removed]",
      "text/plain": [
       "<Figure size 432x288 with 1 Axes>"
      ]
     },
     "metadata": {
      "needs_background": "light"
     },
     "output_type": "display_data"
    }
   ],
   "source": [
    "N=32\n",
    "f=2\n",
    "omega=2*np.pi*f/N\n",
    "n=np.linspace(0,N-1)\n",
    "x_n = np.cos(omega*n)\n",
    "plt.stem(n, x_n)\n",
    "plt.xlabel(\"n\")\n",
    "plt.title(\"Unser Signal\")\n",
    "plt.ylabel(\"x_n\");"
   ]
  },
  {
   "cell_type": "markdown",
   "metadata": {},
   "source": [
    "### DFT - Schleife :"
   ]
  },
  {
   "cell_type": "code",
   "execution_count": 8,
   "metadata": {},
   "outputs": [
    {
     "name": "stderr",
     "output_type": "stream",
     "text": [
      "C:\\Users\\tlieb\\Anaconda3\\lib\\site-packages\\ipykernel_launcher.py:10: ComplexWarning: Casting complex values to real discards the imaginary part\n",
      "  # Remove the CWD from sys.path while we load stuff.\n"
     ]
    },
    {
     "data": {
      "image/png": "[encoded data removed]",
      "text/plain": [
       "<Figure size 432x288 with 1 Axes>"
      ]
     },
     "metadata": {
      "needs_background": "light"
     },
     "output_type": "display_data"
    }
   ],
   "source": [
    "X_k=dft_schleife(x_n)\n",
    "plt.stem(abs(X_k))\n",
    "plt.xlabel(\"k\")\n",
    "plt.ylabel(\"X_k\")\n",
    "plt.title(\"dft_Schleife\")\n",
    "plt.minorticks_on()"
   ]
  },
  {
   "cell_type": "code",
   "execution_count": 14,
   "metadata": {},
   "outputs": [
    {
     "data": {
      "text/plain": [
       "Text(0.5, 1.0, 'Phase')"
      ]
     },
     "execution_count": 14,
     "metadata": {},
     "output_type": "execute_result"
    },
    {
     "data": {
      "image/png": "[encoded data removed]",
      "text/plain": [
       "<Figure size 432x288 with 1 Axes>"
      ]
     },
     "metadata": {
      "needs_background": "light"
     },
     "output_type": "display_data"
    }
   ],
   "source": [
    "plt.stem(X_k.imag)\n",
    "plt.title(\"Phase\")"
   ]
  },
  {
   "cell_type": "markdown",
   "metadata": {},
   "source": [
    "### DFT - Vektor :"
   ]
  },
  {
   "cell_type": "code",
   "execution_count": 10,
   "metadata": {},
   "outputs": [
    {
     "data": {
      "image/png": "[encoded data removed]",
      "text/plain": [
       "<Figure size 432x288 with 1 Axes>"
      ]
     },
     "metadata": {
      "needs_background": "light"
     },
     "output_type": "display_data"
    }
   ],
   "source": [
    "X_k2=dft_vektor(x_n)\n",
    "plt.stem(abs(X_k2))\n",
    "plt.xlabel(\"k\")\n",
    "plt.ylabel(\"X_k2\")\n",
    "plt.title(\"dft_Vektor\")\n",
    "plt.minorticks_on();"
   ]
  },
  {
   "cell_type": "code",
   "execution_count": 15,
   "metadata": {},
   "outputs": [
    {
     "data": {
      "text/plain": [
       "Text(0.5, 1.0, 'Phase')"
      ]
     },
     "execution_count": 15,
     "metadata": {},
     "output_type": "execute_result"
    },
    {
     "data": {
      "image/png": "[encoded data removed]",
      "text/plain": [
       "<Figure size 432x288 with 1 Axes>"
      ]
     },
     "metadata": {
      "needs_background": "light"
     },
     "output_type": "display_data"
    }
   ],
   "source": [
    "plt.stem(X_k2.imag)\n",
    "plt.title(\"Phase\")"
   ]
  },
  {
   "cell_type": "markdown",
   "metadata": {},
   "source": [
    "### DFT mit FFT :"
   ]
  },
  {
   "cell_type": "code",
   "execution_count": 12,
   "metadata": {},
   "outputs": [
    {
     "data": {
      "image/png": "[encoded data removed]",
      "text/plain": [
       "<Figure size 432x288 with 1 Axes>"
      ]
     },
     "metadata": {
      "needs_background": "light"
     },
     "output_type": "display_data"
    }
   ],
   "source": [
    "X_k3=np.fft.fft(x_n)\n",
    "plt.stem(abs(X_k3))\n",
    "plt.xlabel(\"k\")\n",
    "plt.ylabel(\"X_k3\")\n",
    "plt.title(\"dft nach np.fft.fft\")\n",
    "plt.minorticks_on();\n"
   ]
  },
  {
   "cell_type": "code",
   "execution_count": 16,
   "metadata": {},
   "outputs": [
    {
     "data": {
      "text/plain": [
       "Text(0.5, 1.0, 'Phase')"
      ]
     },
     "execution_count": 16,
     "metadata": {},
     "output_type": "execute_result"
    },
    {
     "data": {
      "image/png": "[encoded data removed]",
      "text/plain": [
       "<Figure size 432x288 with 1 Axes>"
      ]
     },
     "metadata": {
      "needs_background": "light"
     },
     "output_type": "display_data"
    }
   ],
   "source": [
    "plt.stem(X_k3.imag)\n",
    "plt.title(\"Phase\")"
   ]
  },
  {
   "cell_type": "markdown",
   "metadata": {},
   "source": [
    "<b>Vergleich:</b> Die Vektorvariante gleicht der FFT-Lösung von Numpy. Meine Schleifenvariante, scheint die komplexen\n",
    "Zahlen nicht zu mögen...leider habe ich keine Lösung bisher gefunden.\n",
    "\n",
    "### 3.2.b) \n",
    "\n",
    "Die normierte Kreisfrequenz <b> 2PI/N </b> ist zu wählen. Somit ist die Frequenz f0 bei \"1\" und die Spektrallinien im Spektrum bei k=1 und k=31."
   ]
  },
  {
   "cell_type": "code",
   "execution_count": null,
   "metadata": {},
   "outputs": [],
   "source": []
  }
 ],
 "metadata": {
  "kernelspec": {
   "display_name": "Python 3",
   "language": "python",
   "name": "python3"
  },
  "language_info": {
   "codemirror_mode": {
    "name": "ipython",
    "version": 3
   },
   "file_extension": ".py",
   "mimetype": "text/x-python",
   "name": "python",
   "nbconvert_exporter": "python",
   "pygments_lexer": "ipython3",
   "version": "3.7.1"
  }
 },
 "nbformat": 4,
 "nbformat_minor": 2
}
